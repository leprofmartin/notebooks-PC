{
 "cells": [
  {
   "cell_type": "markdown",
   "id": "5d26064b",
   "metadata": {},
   "source": [
    "# Des calculs simples"
   ]
  },
  {
   "cell_type": "code",
   "execution_count": null,
   "id": "b54493f3",
   "metadata": {},
   "outputs": [],
   "source": [
    "(2+3)*6-7/4"
   ]
  },
  {
   "cell_type": "markdown",
   "id": "de9e9af0",
   "metadata": {},
   "source": [
    "# Des calculs un peu plus compliqués\n"
   ]
  },
  {
   "cell_type": "code",
   "execution_count": null,
   "id": "ad2ae314",
   "metadata": {},
   "outputs": [],
   "source": [
    "from math import *\n",
    "log(sqrt(abs(sin(-3*pi+0.7))**3))\n"
   ]
  },
  {
   "cell_type": "markdown",
   "id": "de96d4c7",
   "metadata": {},
   "source": [
    "# des calculs sur des listes de données"
   ]
  },
  {
   "cell_type": "code",
   "execution_count": null,
   "id": "6fa82f05",
   "metadata": {},
   "outputs": [],
   "source": [
    "liste_notes = [12.5, 14.5, 8.0, 11.0, 15, 18.5, 7.5, 10, 13.5]\n",
    "moyenne = sum(liste_notes)/len(liste_notes)\n",
    "print(moyenne)\n"
   ]
  },
  {
   "cell_type": "raw",
   "id": "3bc9a212",
   "metadata": {},
   "source": [
    "On peut formater pour ce soit un peu plus joli"
   ]
  },
  {
   "cell_type": "code",
   "execution_count": null,
   "id": "73417030",
   "metadata": {},
   "outputs": [],
   "source": [
    "print(f\"La moyenne de la classe est: {moyenne:.1f}\")"
   ]
  },
  {
   "cell_type": "markdown",
   "id": "dd3f2e18",
   "metadata": {},
   "source": [
    "# On peut bien entendu rentrer des données"
   ]
  },
  {
   "cell_type": "code",
   "execution_count": null,
   "id": "a076b089",
   "metadata": {},
   "outputs": [],
   "source": [
    "nom = input (\"Quel est ton nom ?: \")\n",
    "longueur = len(nom)\n",
    "print (\"Bonjour \", nom, \"...\\nTon nom est composé de \",longueur, \" lettres.\")\n"
   ]
  },
  {
   "cell_type": "markdown",
   "id": "721577f0",
   "metadata": {},
   "source": [
    "# On peut faire des boucles"
   ]
  },
  {
   "cell_type": "code",
   "execution_count": null,
   "id": "d1693144",
   "metadata": {},
   "outputs": [],
   "source": [
    "n = 10\n",
    "print (\"Je compte à rebour:\")\n",
    "while n >= 0 :\n",
    "    print(n)\n",
    "    n = n - 1\n",
    "print (\"BOUM !!!\")\n",
    "    "
   ]
  },
  {
   "cell_type": "markdown",
   "id": "af0cf9d8",
   "metadata": {},
   "source": [
    "# on peut définir des fonctions"
   ]
  },
  {
   "cell_type": "code",
   "execution_count": null,
   "id": "e07d3baa",
   "metadata": {},
   "outputs": [],
   "source": [
    "Cs_Terre = 1368  # W/m2\n",
    "ua = 1.49597871e11 # m\n",
    "sigma = 5.670374e-8\n",
    "\n",
    "def T_Stefan(distance,albedo,absorption):\n",
    "    Cs = Cs_Terre/distance**2\n",
    "    T = ((Cs/(4*sigma))*((1-albedo)/(1-absorption)))**0.25\n",
    "    return Cs, T\n",
    "\n",
    "planete = input(\"Planete ?: \") \n",
    "dist_planete = float(input(\"Distance du Soleil (en ua) ?: \"))\n",
    "albedo = float(input(\"Albedo ?:\"))\n",
    "absorption = float(input(\"Coefficient de absorption moyen de l'atmosphere ?:\"))\n",
    "\n",
    "Cs_planete, T = T_Stefan(dist_planete,albedo,absorption)\n",
    "\n",
    "print(f\"\\nPlanete {planete} :\")\n",
    "print(f\"Constante solaire: {Cs_planete:.0f} W/m2\")\n",
    "print(f\"Température de surface avec effet de serre: {T:.1f} K soit {T-273.15:.1f} ºC\")"
   ]
  },
  {
   "cell_type": "markdown",
   "id": "583e207a",
   "metadata": {},
   "source": [
    "# on peut tracer des graphiques avec des points de mesures"
   ]
  },
  {
   "cell_type": "code",
   "execution_count": null,
   "id": "f5d379a3",
   "metadata": {},
   "outputs": [],
   "source": [
    "%matplotlib inline\n",
    "\n",
    "import matplotlib.pyplot as plt\n",
    "\n",
    "#Les fonctions d'affichage ---------------------------------------------\n",
    "\n",
    "def affiche_points():\n",
    "    plt.figure(figsize=(8,8))\n",
    "\n",
    "    plt.plot(x,y,'+r')\n",
    "    plt.title('Représentation du mouvement du boulet')\n",
    "    plt.xlabel('x en (m)')\n",
    "    plt.ylabel('Altitude y en (m)')\n",
    "    plt.xlim(0,11)\n",
    "    plt.ylim(0,11)\n",
    "    \n",
    "t = [0.0,0.1,0.2,0.3,0.4,0.5,0.6,0.7,0.8,0.9,1.0,1.1,1.2,1.3,1.4]\n",
    "\n",
    "x = [0,0.35,0.7,1.05,1.4,1.75,2.1,2.45,2.8,3.15,3.5,3.85,4.2,4.55,4.9]\n",
    "\n",
    "y = [10,9.95,9.8,9.55,9.2,8.75,8.2,7.55,6.8,5.95,5.0,3.95,2.8,1.55,0.2]\n",
    "\n",
    "affiche_points()\n",
    "\n",
    "plt.show()"
   ]
  },
  {
   "cell_type": "markdown",
   "id": "21fdea80",
   "metadata": {},
   "source": [
    "# En approximant la trajectoire par un polynôme du second degré"
   ]
  },
  {
   "cell_type": "code",
   "execution_count": null,
   "id": "4d471244",
   "metadata": {},
   "outputs": [],
   "source": [
    "%matplotlib inline\n",
    "\n",
    "import matplotlib.pyplot as plt\n",
    "import numpy as np\n",
    "\n",
    "#Les fonctions d'affichage ---------------------------------------------\n",
    "\n",
    "def affiche_points():\n",
    "    plt.figure(figsize=(8,8))\n",
    "\n",
    "    plt.plot(x,y,'+r')\n",
    "    plt.title('Représentation du mouvement du boulet')\n",
    "    plt.xlabel('x en (m)')\n",
    "    plt.ylabel('Altitude y en (m)')\n",
    "    plt.xlim(0,11)\n",
    "    plt.ylim(0,11)\n",
    "\n",
    "def affiche_theorique():\n",
    "    coef = np.polyfit(x,y,2)\n",
    "    p = np.poly1d(coef)\n",
    "    xt = np.arange(0,11,0.1)\n",
    "    yt = p(xt)\n",
    "    plt.plot(xt,yt,\"-b\")\n",
    "    \n",
    "\n",
    "t = [0.0,0.1,0.2,0.3,0.4,0.5,0.6,0.7,0.8,0.9,1.0,1.1,1.2,1.3,1.4]\n",
    "\n",
    "x = [0,0.35,0.7,1.05,1.4,1.75,2.1,2.45,2.8,3.15,3.5,3.85,4.2,4.55,4.9]\n",
    "\n",
    "y = [10,9.95,9.8,9.55,9.2,8.75,8.2,7.55,6.8,5.95,5.0,3.95,2.8,1.55,0.2]\n",
    "\n",
    "affiche_points()\n",
    "affiche_theorique()\n",
    "\n",
    "plt.show()"
   ]
  },
  {
   "cell_type": "markdown",
   "id": "8d7dbc74",
   "metadata": {},
   "source": [
    "# En traçant des vecteurs vitesses et variations de vitesses. "
   ]
  },
  {
   "cell_type": "code",
   "execution_count": null,
   "id": "9f7823b5",
   "metadata": {},
   "outputs": [],
   "source": [
    "%matplotlib inline\n",
    "\n",
    "import matplotlib.pyplot as plt\n",
    "import numpy as np\n",
    "\n",
    "#Les fonctions d'affichage ---------------------------------------------\n",
    "\n",
    "def affiche_points():\n",
    "    plt.figure(figsize=(8,8))\n",
    "\n",
    "    plt.plot(x,y,'+r')\n",
    "    plt.title('Représentation du mouvement du boulet')\n",
    "    plt.xlabel('x en (m)')\n",
    "    plt.ylabel('Altitude y en (m)')\n",
    "    plt.xlim(0,11)\n",
    "    plt.ylim(0,11)\n",
    "\n",
    "def affiche_theorique():\n",
    "    coef = np.polyfit(x,y,2)\n",
    "    p = np.poly1d(coef)\n",
    "    xt = np.arange(0,11,0.1)\n",
    "    yt = p(xt)\n",
    "    plt.plot(xt,yt,\"-b\")\n",
    "\n",
    "def vecteur_Vitesse(n):\n",
    "    Vx = (x[n+1]-x[n-1]) / (t[n+1]-t[n-1])\n",
    "    Vy = (y[n+1]-y[n-1]) / (t[n+1]-t[n-1])\n",
    "    return Vx,Vy\n",
    "\n",
    "def vecteur_Variation(n):\n",
    "    # d'abord le vecteur vitesse en n-1: on l'appelle V1\n",
    "    #V1_x, V1_y = ? \n",
    "    V1_x, V1_y = vecteur_Vitesse(n-1)\n",
    "\n",
    "    #on affiche ce vecteur\n",
    "    affiche_vecteur(n-1,V1_x, V1_y, 'blue')\n",
    "    \n",
    "    #ensuite le vecteur vitesse en n+1: on l'appelle V2\n",
    "    # ecrire ici le code\n",
    "    V2_x, V2_y = vecteur_Vitesse(n+1)\n",
    "\n",
    "    #on affiche ce vecteur\n",
    "    affiche_vecteur(n+1,V2_x, V2_y, 'blue')\n",
    "    \n",
    "    #Puis on calcule les composantes du vecteur variation de vitesse\n",
    "    delta_Vx = V2_x - V1_x\n",
    "    delta_Vy = V2_y - V1_y\n",
    "\n",
    "    #on affiche ce vecteur\n",
    "    affiche_vecteur(n,delta_Vx, delta_Vy, 'green')   \n",
    "\n",
    "t = [0.0,0.1,0.2,0.3,0.4,0.5,0.6,0.7,0.8,0.9,1.0,1.1,1.2,1.3,1.4]\n",
    "\n",
    "x = [0,0.35,0.7,1.05,1.4,1.75,2.1,2.45,2.8,3.15,3.5,3.85,4.2,4.55,4.9]\n",
    "\n",
    "y = [10,9.95,9.8,9.55,9.2,8.75,8.2,7.55,6.8,5.95,5.0,3.95,2.8,1.55,0.2]\n",
    "\n",
    "affiche_points()\n",
    "affiche_theorique()\n",
    "\n",
    "for i in range (2,14,2):\n",
    "    vecteur_Variation(i)\n",
    "\n",
    "\n",
    "plt.show()"
   ]
  },
  {
   "cell_type": "code",
   "execution_count": null,
   "id": "b3bc6010",
   "metadata": {},
   "outputs": [],
   "source": []
  }
 ],
 "metadata": {
  "kernelspec": {
   "display_name": "Python 3",
   "language": "python",
   "name": "python3"
  },
  "language_info": {
   "codemirror_mode": {
    "name": "ipython",
    "version": 3
   },
   "file_extension": ".py",
   "mimetype": "text/x-python",
   "name": "python",
   "nbconvert_exporter": "python",
   "pygments_lexer": "ipython3",
   "version": "3.7.2rc1"
  }
 },
 "nbformat": 4,
 "nbformat_minor": 5
}
